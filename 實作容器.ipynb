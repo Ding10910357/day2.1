{
  "nbformat": 4,
  "nbformat_minor": 0,
  "metadata": {
    "colab": {
      "provenance": [],
      "authorship_tag": "ABX9TyNJZscXWks+26Z1tC9GZ0lU",
      "include_colab_link": true
    },
    "kernelspec": {
      "name": "python3",
      "display_name": "Python 3"
    },
    "language_info": {
      "name": "python"
    }
  },
  "cells": [
    {
      "cell_type": "markdown",
      "metadata": {
        "id": "view-in-github",
        "colab_type": "text"
      },
      "source": [
        "<a href=\"https://colab.research.google.com/github/Ding10910357/day2.1/blob/main/%E5%AF%A6%E4%BD%9C%E5%AE%B9%E5%99%A8.ipynb\" target=\"_parent\"><img src=\"https://colab.research.google.com/assets/colab-badge.svg\" alt=\"Open In Colab\"/></a>"
      ]
    },
    {
      "cell_type": "code",
      "execution_count": null,
      "metadata": {
        "colab": {
          "base_uri": "https://localhost:8080/"
        },
        "id": "TDzA5GGQpeL3",
        "outputId": "98573e77-337a-47bc-c3bf-ee3fd0269fe0"
      },
      "outputs": [
        {
          "output_type": "stream",
          "name": "stdout",
          "text": [
            "1\n",
            "[1, 2, 3, 4, 5, 6]\n"
          ]
        }
      ],
      "source": [
        "my_list = [1, 2, 3, 4, 5]\n",
        "print(my_list[0])\n",
        "my_list.append(6)\n",
        "print(my_list)\n"
      ]
    },
    {
      "cell_type": "code",
      "source": [
        "my_dict = {\"name\": \"John\", \"age\": 30, \"city\": \"New York\"}\n",
        "print(my_dict[\"name\"])\n",
        "my_dict[\"age\"] = 31\n",
        "print(my_dict)\n"
      ],
      "metadata": {
        "colab": {
          "base_uri": "https://localhost:8080/"
        },
        "id": "3BPuBV4Z5-tR",
        "outputId": "687af0c4-0a49-46cc-f29a-03b14f68d44d"
      },
      "execution_count": null,
      "outputs": [
        {
          "output_type": "stream",
          "name": "stdout",
          "text": [
            "John\n",
            "{'name': 'John', 'age': 31, 'city': 'New York'}\n"
          ]
        }
      ]
    },
    {
      "cell_type": "code",
      "source": [
        "my_tuple = (1, 2, 3)\n",
        "print(my_tuple[0])\n"
      ],
      "metadata": {
        "colab": {
          "base_uri": "https://localhost:8080/"
        },
        "id": "pIvFxnXm5_pR",
        "outputId": "58fe3987-9057-4b98-9f49-0a4054efd94b"
      },
      "execution_count": null,
      "outputs": [
        {
          "output_type": "stream",
          "name": "stdout",
          "text": [
            "1\n"
          ]
        }
      ]
    },
    {
      "cell_type": "code",
      "source": [
        "my_set = {1, 2, 3, 4, 5}\n",
        "my_set.add(6)\n",
        "print(my_set)\n"
      ],
      "metadata": {
        "colab": {
          "base_uri": "https://localhost:8080/"
        },
        "id": "-AMlr3ps6Hpp",
        "outputId": "c730e53f-d88b-4bf9-e736-8bb678cf5003"
      },
      "execution_count": null,
      "outputs": [
        {
          "output_type": "stream",
          "name": "stdout",
          "text": [
            "{1, 2, 3, 4, 5, 6}\n"
          ]
        }
      ]
    },
    {
      "cell_type": "code",
      "source": [
        "import pygame, sys, time, random\n",
        "\n",
        "\n",
        "\n",
        "# THANKS FOR WATHING, WHAT KIND OF GAMES U WANT TO SEE NEXT TIME? PLEASE STATE IT IN THE COMMENTS\n",
        "\n",
        "# CHEERSS\n",
        "\n",
        "\n",
        "speed = 15\n",
        "\n",
        "#windows sizes\n",
        "\n",
        "frame_size_x = 1380\n",
        "frame_size_y= 840\n",
        "\n",
        "\n",
        "check_errors = pygame.init()\n",
        "\n",
        "if(check_errors[1] > 0):\n",
        "    print(\"Error \" + check_errors[1])\n",
        "else:\n",
        "    print(\"Game Succesfully initialized\")\n",
        "\n",
        "#initialise game window\n",
        "\n",
        "pygame.display.set_caption(\"Snake Game\")\n",
        "game_window = pygame.display.set_mode((frame_size_x, frame_size_y))\n",
        "\n",
        "# colors\n",
        "black = pygame.Color(0,0,0)\n",
        "white = pygame.Color(255,255,255)\n",
        "red = pygame.Color(255,0,0)\n",
        "green = pygame.Color(0,255,0)\n",
        "blue = pygame.Color(0,0,255)\n",
        "\n",
        "\n",
        "fps_controller = pygame.time.Clock()\n",
        "# one snake square size\n",
        "square_size = 60\n",
        "\n",
        "def init_vars():\n",
        "    global head_pos, snake_body, food_pos, food_spawn, score, direction\n",
        "    direction = \"RIGHT\"\n",
        "    head_pos = [120,60]\n",
        "    snake_body = [[120,60]]\n",
        "    food_pos = [random.randrange(1,(frame_size_x // square_size)) * square_size,\n",
        "                random.randrange(1,(frame_size_y // square_size)) * square_size]\n",
        "    food_spawn = True\n",
        "    score = 0\n",
        "\n",
        "init_vars()\n",
        "\n",
        "def show_score(choice, color, font, size):\n",
        "    score_font = pygame.font.SysFont(font, size)\n",
        "    score_surface = score_font.render(\"Score: \" + str(score), True, color)\n",
        "    score_rect = score_surface.get_rect()\n",
        "    if choice == 1:\n",
        "        score_rect.midtop = (frame_size_x / 10, 15)\n",
        "    else:\n",
        "        score_rect.midtop = (frame_size_x/2, frame_size_y/1.25)\n",
        "\n",
        "    game_window.blit(score_surface, score_rect)\n",
        "\n",
        "\n",
        "#game loop\n",
        "\n",
        "while True:\n",
        "    for event in pygame.event.get():\n",
        "        if event.type == pygame.QUIT:\n",
        "            pygame.quit()\n",
        "            sys.exit()\n",
        "        elif event.type == pygame.KEYDOWN:\n",
        "            if ( event.key == pygame.K_UP or event.key == ord(\"w\")\n",
        "                and direction != \"DOWN\"):\n",
        "                direction = \"UP\"\n",
        "            elif  ( event.key == pygame.K_DOWN or event.key == ord(\"s\")\n",
        "                and direction != \"UP\"):\n",
        "                direction = \"DOWN\"\n",
        "            elif  ( event.key == pygame.K_LEFT or event.key == ord(\"a\")\n",
        "                and direction != \"RIGHT\"):\n",
        "                direction = \"LEFT\"\n",
        "            elif  ( event.key == pygame.K_RIGHT or event.key == ord(\"d\")\n",
        "                and direction != \"LEFT\"):\n",
        "                direction = \"RIGHT\"\n",
        "\n",
        "    if direction == \"UP\":\n",
        "        head_pos[1] -= square_size\n",
        "    elif direction == \"DOWN\":\n",
        "        head_pos[1] += square_size\n",
        "    elif direction == \"LEFT\":\n",
        "        head_pos[0] -= square_size\n",
        "    else:\n",
        "        head_pos[0] += square_size\n",
        "\n",
        "    if head_pos[0] < 0:\n",
        "        head_pos[0] = frame_size_x - square_size\n",
        "    elif head_pos[0] > frame_size_x - square_size:\n",
        "        head_pos[0] = 0\n",
        "    elif head_pos[1] < 0:\n",
        "        head_pos[1] = frame_size_y - square_size\n",
        "    elif head_pos[1] > frame_size_y - square_size:\n",
        "        head_pos[1] = 0\n",
        "\n",
        "    #eating apple\n",
        "    snake_body.insert(0, list(head_pos))\n",
        "    if head_pos[0] == food_pos[0] and head_pos[1] == food_pos[1]:\n",
        "        score += 1\n",
        "        food_spawn = False\n",
        "    else:\n",
        "        snake_body.pop()\n",
        "\n",
        "    # spawn food\n",
        "    if not food_spawn:\n",
        "        food_pos = [random.randrange(1,(frame_size_x // square_size)) * square_size,\n",
        "            random.randrange(1,(frame_size_y // square_size)) * square_size]\n",
        "        food_spawn = True\n",
        "\n",
        "    # GFX\n",
        "    game_window.fill(black)\n",
        "    for pos in snake_body:\n",
        "        pygame.draw.rect(game_window, green, pygame.Rect(\n",
        "            pos[0] + 2, pos[1] + 2,\n",
        "            square_size -2, square_size -2 ))\n",
        "\n",
        "    pygame.draw.rect(game_window,red, pygame.Rect(food_pos[0],\n",
        "                    food_pos[1], square_size, square_size))\n",
        "\n",
        "    # game over condiditons\n",
        "\n",
        "    for block in snake_body[1:]:\n",
        "        if head_pos[0] == block[0] and head_pos[1] == block[1]:\n",
        "            init_vars()\n",
        "\n",
        "    show_score(1,white, 'consolas', 20)\n",
        "    pygame.display.update()\n",
        "    fps_controller.tick(speed)"
      ],
      "metadata": {
        "id": "9YttarebE0EK"
      },
      "execution_count": null,
      "outputs": []
    },
    {
      "cell_type": "code",
      "source": [
        "import random\n",
        "# 設計文字題庫\n",
        "words = ['hello','breakfast','information']\n",
        "word = random.choice(words)\n",
        "answer = word\n",
        "spaces = ['_']*len(word)\n",
        "# 設定猜測次數限制\n",
        "turn = len(word) + 3\n",
        "is_win = False\n",
        "# 確認猜字完成函數\n",
        "def check_win():\n",
        "  for space in spaces:\n",
        "    if (space == '_'):\n",
        "      return False\n",
        "  return True\n",
        "for turn_index in range(turn):\n",
        "  # 等待使用者輸入\n",
        "  guess = input('\\n輸入一字母: ')\n",
        "  # 檢查相同字母\n",
        "  for index , character in enumerate(word):\n",
        "      if (character == guess):\n",
        "          word = word[:index] + '*' + word[index+1:]\n",
        "          spaces[index] = character\n",
        "  # 判斷猜字完成\n",
        "  if (check_win()):\n",
        "    print(f\"恭喜猜對文字: {answer}\")\n",
        "    is_win = True\n",
        "    break\n",
        "  # 顯示目前結果\n",
        "  print(\" \".join(spaces))\n",
        "  # 顯示剩餘回合\n",
        "  if (turn_index != (turn -1) ):\n",
        "    print(f\"剩餘{turn - turn_index - 1}回合\")\n",
        "# 沒完成時的訊息\n",
        "if (not is_win):\n",
        "  print(f\"\\n抱歉，答案是{answer}\")"
      ],
      "metadata": {
        "colab": {
          "base_uri": "https://localhost:8080/"
        },
        "id": "8uoTAZR-GnU1",
        "outputId": "87fffa91-de84-480f-e4c0-427b7f379fcd"
      },
      "execution_count": null,
      "outputs": [
        {
          "metadata": {
            "tags": null
          },
          "name": "stdout",
          "output_type": "stream",
          "text": [
            "_ _ _ _ _ _ _ _ _\n",
            "剩餘11回合\n",
            "_ _ _ _ _ _ _ _ _\n",
            "剩餘10回合\n",
            "_ _ _ _ _ _ _ _ _\n",
            "剩餘9回合\n"
          ]
        }
      ]
    },
    {
      "cell_type": "code",
      "source": [],
      "metadata": {
        "id": "juC2EPFEH511"
      },
      "execution_count": null,
      "outputs": []
    }
  ]
}